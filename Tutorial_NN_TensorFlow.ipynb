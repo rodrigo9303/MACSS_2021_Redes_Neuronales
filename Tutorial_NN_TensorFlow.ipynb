{
 "cells": [
  {
   "cell_type": "markdown",
   "metadata": {},
   "source": [
    "# Cómo funcionan de las redes neuronales?"
   ]
  },
  {
   "cell_type": "markdown",
   "metadata": {},
   "source": [
    "La *red neuronal artificial* es un modelo computacional inspirado en las red neuronal biológica que procesa la información en el cerebro humano. Las redes neuronales artificiales hicieron una serie de avances en el campo de reconocimiento de voz, la visión por computadora y el procesamiento de texto."
   ]
  },
  {
   "cell_type": "markdown",
   "metadata": {},
   "source": [
    "<img src=\"ima_tuto/perceptron_ima.jpeg\" width=\"400\" height=\"800\">"
   ]
  },
  {
   "cell_type": "markdown",
   "metadata": {},
   "source": [
    "## Perceptrón  y Perceptrón Multicapa"
   ]
  },
  {
   "cell_type": "markdown",
   "metadata": {},
   "source": [
    "A mediados del siglo pasado aparece un primer modelo de lo que es una neurona (1943-McCullogh y Pitts), tratando de emular lo que hace una neurona del cerebro humano. Tiempo después se da la idea de asignarle pesos a los datos de entrada (1949-Hebb). Con esto ya se da la idea de lo que podría ser el perceptrón (1958-Rosenblat). Poco más de 10 años después se critíca que el perceptrón puede clasificar cosas, pero no tadas (1969-Minsky y Papert puerta XOR). Nuevamente casi 10 después se da la solución para clasificar cualquier cosa y se creo lo que se conoce como perceptrón multicapa (1974-P.Werbos --- tesis doctoral). Finalmente en 1986 Rumelhart y McCelland aplican la retropropagación al perceptron multicapa.     "
   ]
  },
  {
   "cell_type": "markdown",
   "metadata": {},
   "source": [
    "El *perceptrón* es la unidad básica de procesamiento en una red neuronal. Se tienen *n* entradas \"x\" conectadas arbitrariamente, que son designadas como valores o elementos. El trabajo del perceptrón es recibir, procesar y enviar un valor de salida \"y\". El estimulo viene dado por los pesos sinópticos *w* y el parámetro de *bias* (b). Estos pesos y el bias son los parámetros del modelo, los cuales le permitirán a la red ser optimizada. \n",
    "\n",
    "La neurona recibe los datos de entrada para realizar una *suma ponderada* de ellos, la ponderación viene dada por el peso que se le asigna a cada una de las conexiones de entrada más un término de bias que después será evaluda por una *función de activación*. La función de activación es una función no lineal que puede tener diferentes formas según a convenienca del modelo."
   ]
  },
  {
   "cell_type": "markdown",
   "metadata": {},
   "source": [
    "<img src=\"ima_tuto/perceptron.png\" width=\"400\" height=\"800\">"
   ]
  },
  {
   "cell_type": "markdown",
   "metadata": {},
   "source": [
    "$$\n",
    "\\begin{equation}\n",
    "Z = \\sum_{i=1}^{n} W_{i}\\cdot x_{i} + W_{0} \\hspace{2cm} ϕ(Z) = \\Big \\{ \\begin{matrix} 1 & \\mbox{si }Z\\geq 0.\n",
    "\\\\ 0 & \\mbox{si }Z < 0.\\end{matrix}  \\hspace{2cm}   w_{n+1} = w_{n} + α \\Delta x_{n} \\hspace{2cm} \\mbox{Error} = Y_{p} - Y_{r}\n",
    "\\end{equation}\n",
    "$$\n",
    "\n",
    "$$\n",
    "\\begin{eqnarray}\n",
    "&& W_{0} + W_{1}· x_{i} + W_{2}· x_{2} = 0 \\hspace{2cm} y = \\frac{-(W_{0}+W_{1}· x)}{W_{2}} \\\\  \\\\ \n",
    "&& W_{0} + W_{1}· x + W_{2}· y = 0\n",
    "\\end{eqnarray}\n",
    "$$"
   ]
  },
  {
   "cell_type": "markdown",
   "metadata": {},
   "source": [
    "<img src=\"ima_tuto/puertas_logicas.jpeg\" width=\"700\" height=\"1000\">"
   ]
  },
  {
   "cell_type": "markdown",
   "metadata": {},
   "source": [
    "<img src=\"ima_tuto/XOR.png\" width=\"250\" height=\"500\">"
   ]
  },
  {
   "cell_type": "markdown",
   "metadata": {},
   "source": [
    "<img src=\"ima_tuto/activation.png\" width=\"700\" height=\"1000\">"
   ]
  },
  {
   "cell_type": "markdown",
   "metadata": {},
   "source": [
    "<img src=\"ima_tuto/NN_circulos.png\" width=\"500\" height=\"500\">"
   ]
  },
  {
   "cell_type": "markdown",
   "metadata": {},
   "source": [
    "Una vez obtenido el perceptrón simple, un *Perceptrón Multicapa* se compone de perceptrones simples organizados en capas (layers). Cada neurona conectada a la anterior recibe la salida de la función de activación aplicada a la suma ponderada, esta salida se toma como los nuevos valores de entrada para la siguientes neuronas, donde para cada salida se le vuelve asignar un nuevo valor de pesos y bias. A la primera capa se le llama capa de entrada, a las capas intermedias se les llama capas ocultas y a la última capa, capa de salida. Dado que las neuronas intermedias reciben información de neuronas anteriores da como ventaja que la red pueda aprender *conocimiento jerarquizado*. "
   ]
  },
  {
   "cell_type": "markdown",
   "metadata": {},
   "source": [
    "<img src=\"ima_tuto/multicapa.png\" width=\"600\" height=\"1200\">"
   ]
  },
  {
   "cell_type": "markdown",
   "metadata": {},
   "source": [
    "Finalmente, para evaluar la precisión de la red neuronal se hace uso de un *función de coste*, la cual se encarga de comparar los datos de salida de la última capa con las etiquetas de los datos originales que son conocidos inicialmente. La elección de la función de coste depende de la naturaleza del problema que se desee resolver, ya sea de regresión o de clasificación. "
   ]
  },
  {
   "cell_type": "markdown",
   "metadata": {},
   "source": [
    "En resumen, las redes neuronales no son más que un ajuste una hipersuperficie en un espacio n-dimencional. Las \"n\" dimenciones las da el tamaño del conjunto de datos y la forma de la hipersuperficie vendra dada por la distribución de los mismos."
   ]
  },
  {
   "cell_type": "markdown",
   "metadata": {},
   "source": [
    "# Aprendizaje"
   ]
  },
  {
   "cell_type": "markdown",
   "metadata": {},
   "source": [
    "## Optimizadores"
   ]
  },
  {
   "cell_type": "markdown",
   "metadata": {},
   "source": [
    "Con lo visto hasta ahora, ya se tiene la estructura completa de como es una red neuronal, pero lo que no se ha visto es cómo poder entrenar a dicha red. \n",
    "\n",
    "Para el entrenamiento se hace uso de optimizadores, los cuales ayudarán a que el error dado por la función de coste sea mínimo. Actualmente existen varios algoritmos de optimizadores, donde la elección del optimizador dependerá del problema que se desee resolver. En este tutorial no los revisaremos todos, pues es un tema que requeriría de su propio tutorial. Pero si que vamos a revisar uno de los optimizadores más famosos y usados en Deep Learning, este algoritmo es del *descenso del gradiente*. Este algoritmo estima numéricamente donde una función tiene sus valores más bajos, la forma en como lo hace es calculando el gradiente de la función y evaluandolo en un punto, para que así el siguiente punto sea el punto previo menos $\\alpha$-veces el gradiente. En seguida lo detallaremos con más precisión."
   ]
  },
  {
   "cell_type": "markdown",
   "metadata": {},
   "source": [
    "### Descenso del Gradiente"
   ]
  },
  {
   "cell_type": "markdown",
   "metadata": {},
   "source": [
    "Como ya se mencionó el algoritmo del descenso del gradiente estima numéricamente donde una función, en este caso la función de coste, tiene sus valores más bajos, pero no se logra a través de calcular $\\nabla f = 0$, ya que para algunas funciones podría ser irresoluble calcular esto. El gradiente de una función siempre da dirección en la cual la función crece más rápido, así que si lo que se desea es encontrar los puntos más bajos se debe ir en la dirección contraria, es decir, en $-\\nabla f$. \n",
    "\n",
    "Para el caso de la red neuronal, se busca encontrar los puntos más bajos de la función de Coste $C = C(a(Z(w,a)))$, donde la forma de la función vendrá dada por los datos de entrada, los valores de los pesos sinópticos $w$ y el bias $b$. Si se comienza en un punto $(w_{0}^{j}, b_{0})$, donde $j$ se refiere al $j$-ésimo peso asociado a los datos de entrada, el siguiente punto que deseamos tener es uno en la dirección contraria al vector gradiente, el cuanto se va a mover del punto inicial vendrá dado por el factor $\\alpha$, el cual se llama *taza de aprendizaje*, entonces los nuevos valores de $(w,b)$ serán:\n",
    "\n",
    "$$\n",
    "\\begin{equation}\n",
    "w_{n+1} = w_{n} - α \\nabla C, \\hspace{2cm} b_{n+1} = b_{n} - α \\nabla C.\n",
    "\\end{equation}\n",
    "$$\n",
    "\n",
    "Como se pueda ver, esto puede llevar varias iteraciones, además de que dependerá también del valor de $\\alpha$. "
   ]
  },
  {
   "cell_type": "markdown",
   "metadata": {},
   "source": [
    "<img src=\"ima_tuto/Gradient_descent.gif\" width=\"400\" height=\"400\" align=\"left\"/>\n",
    "<img src=\"ima_tuto/Gdescent_varios.gif\" width=\"400\" height=\"400\" align=\"right\"/>"
   ]
  },
  {
   "cell_type": "markdown",
   "metadata": {},
   "source": [
    "### Retropropagación (Backpropagation)  "
   ]
  },
  {
   "cell_type": "markdown",
   "metadata": {},
   "source": [
    "Supongase que se tiene un red neuronal con varias capas oculatas y con sus parámetros (w,b) inicializados de manera aleatoria, lo que significa que para unos datos arbitrarios de entrada se tendrá una salida o predicción de la red aleatoria también y, cuando sea comparada con los valores reales de los datos de entrada a través de la funció de coste, se verá que el error es muy grande. Pues bien, se va a usar dicho error para entrenar a la red. Lo que se busca es ver como cambia la función de coste con respecto a los parámetros de la red (w,b), entonces se requiere calcular 2 derivadas parciales, una respecto al parámetro de *bias* y otra con respecto a los pesos *w*. Como el nombre del algoritmo lo dice, se deberá comenzar a trabajar hacia atras, así que primero se deben calcular el cambio de la función de coste con respecto a la salida de la última capa, esto se logra calculando las derivadas de la última capa, para que así después se pueda ver el efecto del cambio de la función de coste con respecto a las capas intermedias. Si la red tiene *L* capas, las derivadas que se buscan son:\n",
    "\n",
    "\\begin{equation}\n",
    "\\frac{∂ C}{∂ w^{L}} \\hspace{2cm} y \\hspace{2cm} \\frac{∂ C}{∂ b^{L}},\n",
    "\\end{equation}\n",
    "\n",
    "<img src=\"ima_tuto/backP.jpg\" width=\"600\" height=\"450\" align=\"center\"/>\n",
    "\n",
    "recordemos que la función de Coste $C$ es función de la función de activación de la capa de salida y esta función de activación es función de la suma ponderada, en esta suma participan los pesos y el bias, por lo que $C$ es una coposicón de funciones. Comenceos por calcular $\\frac{∂ C}{∂ w^{L}}$. Sea \n",
    "\n",
    "\\begin{equation}\n",
    "Z^{L}(w,b) = \\sum_{j=1}^{N} a^{L-1}_{j}· W^{L}_{j} + b^{L} = W^{L}· a^{L-1} + b^{L}  \\hspace{2cm} y \\hspace{2cm} a^{L} = a^{L}(Z^{L}),\n",
    "\\end{equation}\n",
    "\n",
    "donde para $L = 1$ se tendrán los valores de los datos de entrada \"x\". Entonces,\n",
    "\n",
    "\\begin{eqnarray}\n",
    "&& \\frac{∂ C}{∂ w^{L}} = \\frac{∂ C}{∂ a^{L}} · \\frac{∂ a^{L}}{∂ Z^{L}} · \\frac{∂ Z^{L}}{∂ w^{L}} \\\\  \\\\\n",
    "&& \\frac{∂ C}{∂ b^{L}} = \\frac{∂ C}{∂ a^{L}} · \\frac{∂ a^{L}}{∂ Z^{L}} · \\frac{∂ Z^{L}}{∂ b^{L}},\n",
    "\\end{eqnarray}\n",
    "\n",
    "solo por conveniencia elijamos a la función sigmoide como función de activación y al Error Cuadrático Medio como función de coste.\n",
    "\n",
    "\\begin{equation}\n",
    "C = C(a) =  \\frac{1}{2} (a^{L}_{j} - y_{j})^{2} \\hspace{2cm} y \\hspace{2cm} a^{L}(Z) = \\frac{1}{1 + e^{-Z^{L}}}.\n",
    "\\end{equation}\n",
    "\n",
    "Así,\n",
    "\n",
    "\\begin{equation}\n",
    "\\frac{∂ C}{∂ a^{L}_{j}} = 2(a^{L}_{j} - y_{j}), \\hspace{1.2cm} \\frac{∂ a^{L}}{∂ Z^{L}} = a^{L} · (1 - a^{L}(Z^{L})), \\hspace{1.2cm} \\frac{∂ Z^{L}}{∂ w^{L}} = a^{L-1}_{j}, \\hspace{1.2cm} \\frac{∂ Z^{L}}{∂ b^{L}} = 1.\n",
    "\\end{equation}\n",
    "\n",
    "Dentro de la red, cada neurona contribuye en cierto grado al error medido por la función de coste y que viene dado por la cantidad $\\frac{∂ C}{∂ Z^{L}}$, la cual nos cuenta que responsabilidad tiene la neurona en el resultado final,es decir, es el *error imputado a la neurona*, este error se va a representar con el símbolo $\\delta^{L}$, por lo tanto se tiene que:\n",
    "\n",
    "$$\n",
    "\\begin{eqnarray}\n",
    "\\boxed{\n",
    "\\begin{array}{rcl}\n",
    "&& \\frac{∂ C}{∂ w^{L}} = \\delta^{L} · a^{L-1}_{j}, \\\\ \\\\\n",
    "&& \\frac{∂ C}{∂ b^{L}} = \\delta^{L} · 1, \\\\\n",
    "& donde \\\\\n",
    "&& \\delta^{L} = \\frac{∂ C}{∂ a^{L}} · \\frac{∂ a^{L}}{∂ Z^{L}}.\n",
    "\\end{array}\n",
    "}\n",
    "\\end{eqnarray}\n",
    "$$\n",
    "\n",
    "Ya se tienen las derivadas que se requerían para la última capa, ahora solo faltan $L - 1$ derivadas...\n",
    "\n",
    "La belleza del algorito de retropropagación viene del hecho de que sólo se requiere de una expresión más para calcular el resto de derivadas de la red. Veamos como es esto. Ahora se buscan las derivadas de la capa anterior (capa $L - 1$), es decir:\n",
    "\n",
    "$$\n",
    "\\begin{eqnarray}\n",
    "&& \\hspace{2.7cm}\\delta^{L} \\hspace{2.7cm} D.F.A. \\hspace{0.8cm} a^{L-2}\\\\\n",
    "&& \\frac{∂ C}{∂ w^{L-1}} = \\boxed{\\begin{array}{rcl} \\frac{∂ C}{∂ a^{L}} · \\frac{∂ a^{L}}{∂ Z^{L}}\\end{array}} · \\boxed{\\begin{array}{rcl} \\frac{∂ Z^{L}}{∂ a^{L-1}}\\end{array}} · \\boxed{\\begin{array}{rcl}\\frac{∂ a^{L-1}}{∂ Z^{L-1}}\\end{array}} · \\boxed{\\begin{array}{rcl}\\frac{∂ Z^{L-1}}{∂ w^{L-1}}\\end{array}} \\\\  \\\\\n",
    "&& \\hspace{2.7cm}\\delta^{L} \\hspace{2.7cm} D.F.A. \\hspace{0.8cm} 1\\\\\n",
    "&& \\frac{∂ C}{∂ b^{L-1}} = \\boxed{\\begin{array}{rcl} \\frac{∂ C}{∂ a^{L}} · \\frac{∂ a^{L}}{∂ Z^{L}}\\end{array}} · \\boxed{\\begin{array}{rcl} \\frac{∂ Z^{L}}{∂ a^{L-1}}\\end{array}} · \\boxed{\\begin{array}{rcl}\\frac{∂ a^{L-1}}{∂ Z^{L-1}}\\end{array}} · \\boxed{\\begin{array}{rcl}\\frac{∂ Z^{L-1}}{∂ b^{L-1}}\\end{array}},\n",
    "\\end{eqnarray}\n",
    "$$\n",
    "\n",
    "por lo que sólo resta calcular la derivada $\\frac{∂ Z^{L}}{∂ a^{L-1}}$, es decir, el cambio de la suma ponderada de una capa cuando se varia la salida de una neurona en la capa previa, esta derivada no es otra cosa que la matriz de pesos sinópticos que conecta ambas capas, es decir, $W^{L}$. Con esto ya se tinen las derivadas que se estaban buscando para la capa $L-1$ y error de las neuronas en esta capa viene dado por $\\frac{∂ C}{∂ Z^{L-1}}$. Ahora bien, lo que se ha hecho en esta capa ya es extensible al resto de las capas de la red aplicando la misma lógica, tomando el error de la capa anterior, se multiplica por la matriz de pesos en una transformación que viene a representar la retropropagación de los errores y se calculan las derivadas parciales respecto a los parámetros, en resumen, se requiere de las siguientes 4 expresiones:\n",
    "\n",
    "$$\n",
    "\\begin{eqnarray}\n",
    "&& 1.- \\mbox{Computo del error de la última capa} \\\\\n",
    "&& \\hspace{1.5cm}\\delta^{L} = \\frac{∂ C}{∂ a^{L}} · \\frac{∂ a^{L}}{∂ Z^{L}}\\\\\n",
    "&& 2.- \\mbox{Retropropagación del error a la capa anterior} \\\\\n",
    "&& \\hspace{1.5cm}\\delta^{L-1} = W^{L} · \\delta^{L} · \\frac{∂ a^{L-1}}{∂ Z^{L-1}}\\\\\n",
    "&& 3.- \\mbox{Calcular las derivadas de la capa usando el error} \\\\\n",
    "&& \\hspace{1.5cm}\\frac{∂ C}{∂ w^{L-1}} = \\delta^{L-1} · a^{L-2} \\hspace{2cm} \\frac{∂ C}{∂ b^{L-1}} = \\delta^{L-1}\n",
    "\\end{eqnarray}\n",
    "$$\n",
    "\n",
    "Esto se puede hacer sucesivamente hasta el final. Con un único pase se habrán calculado todos los errores de todas las neuronas y todas las derivadas parciales de la red, haciendo solo uso de las 4 expresiones de arriba. En tensorflow se le llama una época (epoch) al hecho de inicializar los parámetros, calcular el coste y retropropagar el error. Cuando se calcula la segunda época, se hace con los nuevos valores de los parámetros $(w,b)$ a través de,\n",
    "\n",
    "$$\n",
    "\\begin{equation}\n",
    "w_{n+1} = w_{n} - α \\nabla C = w_{n} - α \\left(\\frac{∂ C}{∂ w^{L}_{j}},\\frac{∂ C}{∂ b^{L}}\\right), \\hspace{2cm} b_{n+1} = b_{n} - α \\nabla C.\n",
    "\\end{equation}\n",
    "$$"
   ]
  },
  {
   "cell_type": "markdown",
   "metadata": {},
   "source": [
    "Veamos un ejemplo simple de cómo trabajan las redes neuronales en un problema de clasificación de dígitos usando Tensorflow. "
   ]
  },
  {
   "cell_type": "markdown",
   "metadata": {},
   "source": [
    "Es necesario tener instalado Tensorflow, si no lo tiene, se puede seguir esta [guia](https://www.tensorflow.org/install?hl=es-419)"
   ]
  },
  {
   "cell_type": "markdown",
   "metadata": {},
   "source": [
    "Cargar modulos"
   ]
  },
  {
   "cell_type": "code",
   "execution_count": 2,
   "metadata": {},
   "outputs": [
    {
     "name": "stdout",
     "output_type": "stream",
     "text": [
      "Populating the interactive namespace from numpy and matplotlib\n"
     ]
    }
   ],
   "source": [
    "import tensorflow as tf\n",
    "import tensorflow_probability as tfp\n",
    "import os\n",
    "import numpy as np\n",
    "import matplotlib.pyplot as plt\n",
    "\n",
    "from tensorflow.keras.datasets import mnist\n",
    "from tensorflow.keras.models import Sequential\n",
    "from tensorflow.keras.layers import Dense, Flatten, Conv2D, MaxPooling2D\n",
    "from tensorflow.keras.losses import SparseCategoricalCrossentropy\n",
    "from tensorflow.keras.optimizers import RMSprop\n",
    "\n",
    "tfpd = tfp.distributions\n",
    "tfpl = tfp.layers\n",
    "%matplotlib inline\n",
    "%pylab inline"
   ]
  },
  {
   "cell_type": "markdown",
   "metadata": {},
   "source": [
    "Comencemos con hacer una primera red neuronal muy básica usando TENSORFLOW."
   ]
  },
  {
   "cell_type": "markdown",
   "metadata": {},
   "source": [
    "Cargar los datos"
   ]
  },
  {
   "cell_type": "code",
   "execution_count": 3,
   "metadata": {},
   "outputs": [],
   "source": [
    "(train_X, train_y), (test_X, test_y) = mnist.load_data()"
   ]
  },
  {
   "cell_type": "markdown",
   "metadata": {},
   "source": [
    "0 = \\[1,0,0,0,0,0,0,0,0,0\\] \n",
    "\n",
    "1 = \\[0,1,0,0,0,0,0,0,0,0\\]\n",
    "\n",
    "2 = \\[0,0,1,0,0,0,0,0,0,0\\]\n",
    "\n",
    "3 = \\[0,0,0,1,0,0,0,0,0,0\\]\n",
    "\n",
    "4 = \\[0,0,0,0,1,0,0,0,0,0\\]\n",
    "\n",
    "5 = \\[0,0,0,0,0,1,0,0,0,0\\]\n",
    "\n",
    "6 = \\[0,0,0,0,0,0,1,0,0,0\\]\n",
    "\n",
    "7 = \\[0,0,0,0,0,0,0,1,0,0\\]\n",
    "\n",
    "8 = \\[0,0,0,0,0,0,0,0,1,0\\]\n",
    "\n",
    "9 = \\[0,0,0,0,0,0,0,0,0,1\\]"
   ]
  },
  {
   "cell_type": "markdown",
   "metadata": {},
   "source": [
    "Estos datos se dividen en dos partes, un conjunto de entremaniento y un conjunto de prueba."
   ]
  },
  {
   "cell_type": "code",
   "execution_count": 4,
   "metadata": {},
   "outputs": [
    {
     "name": "stdout",
     "output_type": "stream",
     "text": [
      "X_train: (60000, 28, 28)\n",
      "Y_train: (60000,)\n",
      "X_test:  (10000, 28, 28)\n",
      "Y_test:  (10000,)\n"
     ]
    }
   ],
   "source": [
    "# Forma del conjunto de datos\n",
    "print('X_train: ' + str(train_X.shape))\n",
    "print('Y_train: ' + str(train_y.shape))\n",
    "print('X_test:  '  + str(test_X.shape))\n",
    "print('Y_test:  '  + str(test_y.shape))"
   ]
  },
  {
   "cell_type": "markdown",
   "metadata": {},
   "source": [
    "Entonces existen 60000 datos para entrenar la red con una pixelización de $28×28$, mientras que para hacer la evalución de la red pre-entrenada se tienen 10000 datos de prueba. "
   ]
  },
  {
   "cell_type": "markdown",
   "metadata": {},
   "source": [
    "Estos datos son imagenes de números. Veamos como se miran."
   ]
  },
  {
   "cell_type": "code",
   "execution_count": 5,
   "metadata": {},
   "outputs": [
    {
     "data": {
      "image/png": "[encoded data removed]",
      "text/plain": [
       "<Figure size 1008x504 with 9 Axes>"
      ]
     },
     "metadata": {},
     "output_type": "display_data"
    }
   ],
   "source": [
    "nshow = 9\n",
    "plt.figure(figsize=(14,7))\n",
    "for i in range(nshow):  \n",
    "    plt.subplot(330 + 1 + i)\n",
    "    plt.imshow(train_X[i], cmap=plt.get_cmap('gray'))\n",
    "    plt.title('Number {}'.format(train_y[i]))\n",
    "plt.tight_layout()                                 # ajuste para que no se emplamen los labels"
   ]
  },
  {
   "cell_type": "markdown",
   "metadata": {},
   "source": [
    "El conjunto de datos debe ser pre-procesado antes de entrenar la red. Si se inspecciona la primera imagen en el set de entrenamiento, se encontra que los valores de los pixeles estan entre 0 y 255:"
   ]
  },
  {
   "cell_type": "code",
   "execution_count": 6,
   "metadata": {},
   "outputs": [
    {
     "name": "stdout",
     "output_type": "stream",
     "text": [
      "Min = 0 \n",
      "Max = 255\n",
      "EL número es:  5\n",
      "[[  0   0   0   0   0   0   0   0   0   0   0   0   0   0   0   0   0   0   0   0   0   0   0   0   0   0   0   0]\n",
      " [  0   0   0   0   0   0   0   0   0   0   0   0   0   0   0   0   0   0   0   0   0   0   0   0   0   0   0   0]\n",
      " [  0   0   0   0   0   0   0   0   0   0   0   0   0   0   0   0   0   0   0   0   0   0   0   0   0   0   0   0]\n",
      " [  0   0   0   0   0   0   0   0   0   0   0   0   0   0   0   0   0   0   0   0   0   0   0   0   0   0   0   0]\n",
      " [  0   0   0   0   0   0   0   0   0   0   0   0   0   0   0   0   0   0   0   0   0   0   0   0   0   0   0   0]\n",
      " [  0   0   0   0   0   0   0   0   0   0   0   0   3  18  18  18 126 136 175  26 166 255 247 127   0   0   0   0]\n",
      " [  0   0   0   0   0   0   0   0  30  36  94 154 170 253 253 253 253 253 225 172 253 242 195  64   0   0   0   0]\n",
      " [  0   0   0   0   0   0   0  49 238 253 253 253 253 253 253 253 253 251  93  82  82  56  39   0   0   0   0   0]\n",
      " [  0   0   0   0   0   0   0  18 219 253 253 253 253 253 198 182 247 241   0   0   0   0   0   0   0   0   0   0]\n",
      " [  0   0   0   0   0   0   0   0  80 156 107 253 253 205  11   0  43 154   0   0   0   0   0   0   0   0   0   0]\n",
      " [  0   0   0   0   0   0   0   0   0  14   1 154 253  90   0   0   0   0   0   0   0   0   0   0   0   0   0   0]\n",
      " [  0   0   0   0   0   0   0   0   0   0   0 139 253 190   2   0   0   0   0   0   0   0   0   0   0   0   0   0]\n",
      " [  0   0   0   0   0   0   0   0   0   0   0  11 190 253  70   0   0   0   0   0   0   0   0   0   0   0   0   0]\n",
      " [  0   0   0   0   0   0   0   0   0   0   0   0  35 241 225 160 108   1   0   0   0   0   0   0   0   0   0   0]\n",
      " [  0   0   0   0   0   0   0   0   0   0   0   0   0  81 240 253 253 119  25   0   0   0   0   0   0   0   0   0]\n",
      " [  0   0   0   0   0   0   0   0   0   0   0   0   0   0  45 186 253 253 150  27   0   0   0   0   0   0   0   0]\n",
      " [  0   0   0   0   0   0   0   0   0   0   0   0   0   0   0  16  93 252 253 187   0   0   0   0   0   0   0   0]\n",
      " [  0   0   0   0   0   0   0   0   0   0   0   0   0   0   0   0   0 249 253 249  64   0   0   0   0   0   0   0]\n",
      " [  0   0   0   0   0   0   0   0   0   0   0   0   0   0  46 130 183 253 253 207   2   0   0   0   0   0   0   0]\n",
      " [  0   0   0   0   0   0   0   0   0   0   0   0  39 148 229 253 253 253 250 182   0   0   0   0   0   0   0   0]\n",
      " [  0   0   0   0   0   0   0   0   0   0  24 114 221 253 253 253 253 201  78   0   0   0   0   0   0   0   0   0]\n",
      " [  0   0   0   0   0   0   0   0  23  66 213 253 253 253 253 198  81   2   0   0   0   0   0   0   0   0   0   0]\n",
      " [  0   0   0   0   0   0  18 171 219 253 253 253 253 195  80   9   0   0   0   0   0   0   0   0   0   0   0   0]\n",
      " [  0   0   0   0  55 172 226 253 253 253 253 244 133  11   0   0   0   0   0   0   0   0   0   0   0   0   0   0]\n",
      " [  0   0   0   0 136 253 253 253 212 135 132  16   0   0   0   0   0   0   0   0   0   0   0   0   0   0   0   0]\n",
      " [  0   0   0   0   0   0   0   0   0   0   0   0   0   0   0   0   0   0   0   0   0   0   0   0   0   0   0   0]\n",
      " [  0   0   0   0   0   0   0   0   0   0   0   0   0   0   0   0   0   0   0   0   0   0   0   0   0   0   0   0]\n",
      " [  0   0   0   0   0   0   0   0   0   0   0   0   0   0   0   0   0   0   0   0   0   0   0   0   0   0   0   0]]\n"
     ]
    }
   ],
   "source": [
    "np.set_printoptions(linewidth=200)\n",
    "print('Min =',np.min(train_X),'\\nMax =',np.max(train_X))\n",
    "print('EL número es: ',train_y[0])\n",
    "print(train_X[0])"
   ]
  },
  {
   "cell_type": "markdown",
   "metadata": {},
   "source": [
    "Estos son los números mínimo y máximo que se encuentran dentro de cada pixel de las imágenes. Siguiendo el tutotrial de James y los tips de los tutoriales de tensorflow, se deben normalizar los datos.\n",
    "\n",
    "Escalar los valores en un rango de 0 a 1 antes de alimentarlos al modelo de la red neuronal. Para hacerlo, divida los valores por 255. Es importante que el conjunto de entrenamiento y el conjunto de prueba se pre-procesen de la misma forma:"
   ]
  },
  {
   "cell_type": "code",
   "execution_count": 7,
   "metadata": {},
   "outputs": [],
   "source": [
    "train_X = train_X / 255.\n",
    "test_X  = test_X / 255."
   ]
  },
  {
   "cell_type": "markdown",
   "metadata": {},
   "source": [
    "En este ejemplo veremos una red densa completamente conectada. Como primer paso pasaremos la matrices de datos de $28\\times28$ a vectores de tamaño 784 para después pasarla por nuestra primera capa (layer), donde el número de deuronas esta capa se elejida por el usuario (es recomdable jugar con este número), finalmente pondremos una capa de salida con 10 neuronas, la cual coincide con el número de objetos que deseamos clasificar.\n",
    "\n",
    "Además usaremos como función de activación la función Rectified Lineal Unit (ReLU)."
   ]
  },
  {
   "cell_type": "code",
   "execution_count": 8,
   "metadata": {},
   "outputs": [],
   "source": [
    "n_units = 128\n",
    "activation = 'relu'   "
   ]
  },
  {
   "cell_type": "code",
   "execution_count": 9,
   "metadata": {},
   "outputs": [],
   "source": [
    "layers = [\n",
    "  tf.keras.layers.Flatten(input_shape=(28, 28, 1)),       # transfoma las matrices de datos en vectores\n",
    "  tf.keras.layers.Dense(n_units, activation=activation),  # primera capa con 128 neuronas\n",
    "]"
   ]
  },
  {
   "cell_type": "markdown",
   "metadata": {},
   "source": [
    "Como ya mencionamos antes, se desea clasificar una imagen (con algún número) a partir de 10 clases distintas (núemros que van de 0-9). Para esto usaremos la función de activación SOFTMAX, la cual nos ayudara a que los datos de salida en la última capa (con 10 neuronas) sean probabilidades, así cuando en alguna de las 10 neuronas de salida se tenga la probabilidad más alta, entonces esta corresponderá al valor del número que se deseaba clasificar.\n",
    "\n",
    "Para ser un poco más claro, se tiene vector de salida $Y = (y_{0},y_{1},\\cdots,y_{9})$, donde cada $y_{i}$ es la probabilidad de que la imagen sea el dígito \"i\", es decir: \n",
    "\n",
    "\\begin{equation}\n",
    "y_{i} = P(Imagen\\enspace muestre\\enspace el\\enspace dígito\\enspace \"i\").\n",
    "\\end{equation}\n",
    "\n",
    "La funció de activación SOFTMAX es una generalización de la función logística (lacual funciona para clasificar únicamento dos clases distintas). Esta función transforma un conjunto de datos en valores entre 0-1, logrando así \n",
    "verlo como probabilidades normalizadas. La función SOFTMAX tiene la siguiente forma:\n",
    "\n",
    "\\begin{equation}\n",
    "P_{i} = \\frac{e^{z_{i}}}{\\displaystyle\\sum_{k=1}^{N}e^{z_{k}}}.\n",
    "\\end{equation}\n",
    "\n",
    "Dado que es una probabilidad normalizada, entonces se cumple que:\n",
    "\n",
    "$\\displaystyle\\sum_{k=1}^{N}P_{k} = 1.0 $\n",
    "\n",
    "$0.0 < P_{i} < 1.0$"
   ]
  },
  {
   "cell_type": "code",
   "execution_count": 10,
   "metadata": {},
   "outputs": [],
   "source": [
    "layers += [\n",
    "  tf.keras.layers.Dense(10, activation='softmax')\n",
    "]"
   ]
  },
  {
   "cell_type": "markdown",
   "metadata": {},
   "source": [
    "Ahora trabajaremos con capas de manera secuancial."
   ]
  },
  {
   "cell_type": "code",
   "execution_count": 11,
   "metadata": {},
   "outputs": [],
   "source": [
    "model = tf.keras.models.Sequential(layers)"
   ]
  },
  {
   "cell_type": "markdown",
   "metadata": {},
   "source": [
    "Se usará como optimizador el algoritmo Adam, el cual requiere de una taza de aprendizaje al igual que lo hace el desenso del grandiente. Además elejiremos un número pequeño de epocas (tiempo de entremiento de nuestra red) para que no sea muy tardado, pero ya veremos que es sufieciente para tener un buen entrenamiento."
   ]
  },
  {
   "cell_type": "code",
   "execution_count": 12,
   "metadata": {},
   "outputs": [],
   "source": [
    "learning_rate = 0.001\n",
    "n_epochs = 5"
   ]
  },
  {
   "cell_type": "markdown",
   "metadata": {},
   "source": [
    "La función de costo sobre bloques de multiples muestras de tamaño $n$, puede ser calculada como:\n",
    "\n",
    "$$\n",
    "\\begin{equation}\n",
    "\\xi(Y^{r},Y^{p}) = -\\sum_{i?1}^{n} \\sum_{c=1}^{C}y^{r}_{ic}· \\log (y^{p}_{ic}).\n",
    "\\end{equation}\n",
    "$$"
   ]
  },
  {
   "cell_type": "code",
   "execution_count": 13,
   "metadata": {},
   "outputs": [],
   "source": [
    "model.compile(\n",
    "    loss='sparse_categorical_crossentropy',\n",
    "    optimizer=tf.keras.optimizers.Adam(learning_rate),\n",
    "    metrics = ['sparse_categorical_crossentropy',\n",
    "                  'accuracy']\n",
    "    #metrics=['accuracy']\n",
    ")"
   ]
  },
  {
   "cell_type": "code",
   "execution_count": 14,
   "metadata": {},
   "outputs": [
    {
     "name": "stdout",
     "output_type": "stream",
     "text": [
      "Model: \"sequential\"\n",
      "_________________________________________________________________\n",
      "Layer (type)                 Output Shape              Param #   \n",
      "=================================================================\n",
      "flatten (Flatten)            (None, 784)               0         \n",
      "_________________________________________________________________\n",
      "dense (Dense)                (None, 128)               100480    \n",
      "_________________________________________________________________\n",
      "dense_1 (Dense)              (None, 10)                1290      \n",
      "=================================================================\n",
      "Total params: 101,770\n",
      "Trainable params: 101,770\n",
      "Non-trainable params: 0\n",
      "_________________________________________________________________\n"
     ]
    }
   ],
   "source": [
    "# Print the model summary\n",
    "\n",
    "model.summary()"
   ]
  },
  {
   "cell_type": "markdown",
   "metadata": {},
   "source": [
    "Entrenemos el modelo."
   ]
  },
  {
   "cell_type": "code",
   "execution_count": 15,
   "metadata": {},
   "outputs": [
    {
     "name": "stdout",
     "output_type": "stream",
     "text": [
      "Epoch 1/5\n",
      "1875/1875 [==============================] - 6s 2ms/step - loss: 0.4358 - sparse_categorical_crossentropy: 0.4358 - accuracy: 0.8769\n",
      "Epoch 2/5\n",
      "1875/1875 [==============================] - 5s 2ms/step - loss: 0.1241 - sparse_categorical_crossentropy: 0.1241 - accuracy: 0.9634\n",
      "Epoch 3/5\n",
      "1875/1875 [==============================] - 4s 2ms/step - loss: 0.0785 - sparse_categorical_crossentropy: 0.0785 - accuracy: 0.9767\n",
      "Epoch 4/5\n",
      "1875/1875 [==============================] - 4s 2ms/step - loss: 0.0615 - sparse_categorical_crossentropy: 0.0615 - accuracy: 0.9819\n",
      "Epoch 5/5\n",
      "1875/1875 [==============================] - 4s 2ms/step - loss: 0.0446 - sparse_categorical_crossentropy: 0.0446 - accuracy: 0.9860\n"
     ]
    }
   ],
   "source": [
    "historia = model.fit(train_X,train_y,epochs=n_epochs,)"
   ]
  },
  {
   "cell_type": "markdown",
   "metadata": {},
   "source": [
    "Ya tenemos a la red entrenada y parece tener una buena precición, ahora lo que toca es hacer predicciones, para usaremos los datos de prueba."
   ]
  },
  {
   "cell_type": "code",
   "execution_count": 16,
   "metadata": {},
   "outputs": [],
   "source": [
    "y_pred = np.argmax(model.predict(test_X),axis=1)"
   ]
  },
  {
   "cell_type": "code",
   "execution_count": 17,
   "metadata": {},
   "outputs": [
    {
     "data": {
      "image/png": "[encoded data removed]",
      "text/plain": [
       "<Figure size 1008x504 with 9 Axes>"
      ]
     },
     "metadata": {},
     "output_type": "display_data"
    }
   ],
   "source": [
    "nshow = 9\n",
    "toshow = np.random.choice(np.arange(test_X.shape[0]), size=nshow, replace=False)\n",
    "plt.figure(figsize=(14,7))\n",
    "for i in range(nshow):  \n",
    "    plt.subplot(330 + 1 + i)\n",
    "    plt.imshow(test_X[toshow[i]], cmap=plt.get_cmap('gray'))\n",
    "    plt.title('Truth {}; prediction {}'.format(test_y[toshow[i]],y_pred[toshow[i]]))\n",
    "plt.tight_layout() "
   ]
  },
  {
   "cell_type": "markdown",
   "metadata": {},
   "source": [
    "Ejemplo de lo que hace esta red neuronal."
   ]
  },
  {
   "cell_type": "markdown",
   "metadata": {},
   "source": [
    "<img src=\"ima_tuto/digits_recog.gif\" width=\"600\" height=\"450\" align=\"center\"/>"
   ]
  },
  {
   "cell_type": "code",
   "execution_count": 18,
   "metadata": {},
   "outputs": [
    {
     "name": "stdout",
     "output_type": "stream",
     "text": [
      "Accuracy = 97.45%\n"
     ]
    }
   ],
   "source": [
    "acc = (y_pred == test_y).sum()/len(test_y)\n",
    "print('Accuracy = {:2.2%}'.format(acc))"
   ]
  },
  {
   "cell_type": "code",
   "execution_count": 19,
   "metadata": {},
   "outputs": [
    {
     "data": {
      "text/plain": [
       "<matplotlib.legend.Legend at 0x7fe688266080>"
      ]
     },
     "execution_count": 19,
     "metadata": {},
     "output_type": "execute_result"
    },
    {
     "data": {
      "image/png": "[encoded data removed]",
      "text/plain": [
       "<Figure size 432x288 with 1 Axes>"
      ]
     },
     "metadata": {},
     "output_type": "display_data"
    }
   ],
   "source": [
    "plt.title('Model accuracy')\n",
    "plt.plot(historia.history['accuracy'], label='Train')\n",
    "plt.ylabel('Accuracy')\n",
    "plt.xlabel('Epoch')\n",
    "plt.legend()"
   ]
  },
  {
   "cell_type": "code",
   "execution_count": 20,
   "metadata": {},
   "outputs": [
    {
     "data": {
      "text/plain": [
       "<matplotlib.legend.Legend at 0x7fe6881cf9b0>"
      ]
     },
     "execution_count": 20,
     "metadata": {},
     "output_type": "execute_result"
    },
    {
     "data": {
      "image/png": "[encoded data removed]",
      "text/plain": [
       "<Figure size 432x288 with 1 Axes>"
      ]
     },
     "metadata": {},
     "output_type": "display_data"
    }
   ],
   "source": [
    "plt.title('Model sparse_categorical_crossentropy')\n",
    "plt.plot(historia.history['sparse_categorical_crossentropy'], label='Train')\n",
    "plt.ylabel('sparse_categorical_crossentropy')\n",
    "plt.xlabel('Epoch')\n",
    "plt.legend()"
   ]
  },
  {
   "cell_type": "markdown",
   "metadata": {},
   "source": [
    "# Redes Neuronales Convolucionales"
   ]
  },
  {
   "cell_type": "markdown",
   "metadata": {},
   "source": [
    "Las redes neuronales convolucionales (CNN por sus siglas en inglés, Convolutional Neural Networks) son un tipo especial de redes neuronales para procesar datos que tienen una topología cuadricular conocida. Algunos ejemplos de estos son los datos de series de tiempo que pueden ser vistos como una cuadrícula 1D tomando muestras en intervalos de tiempo regulares, datos de imágenes, que pueden ser pensados como cuadrículas 2D de píxeles. Como el nombre lo indica, la red emplea una operación matemática llamda convolución. Las *redes convolucionales* son simplemente redes neuronales que usan convoluciones en lugar de usar multiplicaciones de matrices como lo hacen las redes ordinarias.\n",
    "\n",
    "En este tutorial no se pretende dar una explicación exacta de lo que es una convolución, ya que su deficnición formal es puramente matemática, además en las redes neuronales convolucionales esta operación no corresponde exactamente a la definición de convolución que se usa en matemáticas. En palabras simples una *Convolución* es el proceso de distribución de una función en cada punto de otra función. En terminología de redes convolucionales, la primera función para la convolución es frecuentemente referida con los *datos de entrada* y la segunda función referida como *kernel*."
   ]
  },
  {
   "cell_type": "markdown",
   "metadata": {},
   "source": [
    "<img src=\"ima_tuto/Cnn_conv.gif\" width=\"400\" height=\"400\" align=\"left\"/>\n",
    "<img src=\"ima_tuto/convV2.gif\" width=\"400\" height=\"400\" align=\"right\"/>"
   ]
  },
  {
   "cell_type": "markdown",
   "metadata": {},
   "source": [
    "En las redes convolucionales hay 3 ideas importantes que ayudan a mejorar el aprendizaje automático: *interacciones esacasas, parámetros compartidos y representación equivariante*. \n",
    "\n",
    "- *Interaciones escasas*: En las capas de redes neuronales tradicionales se utilizan las multiplicaciones de matrices para describir la interación de los datos de entrada y los datos de salida. Esto significa que cada valor de salida interactua con cada valor de entrada. En las redes convolucionales, sin embargo, típicamente tienen interacciones escasas, esto es mediado por el tamaño del kernel. Por ejemplo, cuando se procesa una imagen, la imagen de entrada puede tener miles o millones de píxeles, pero se puede detectar características pequeñas y significativas, como bordes con *kernels* que ocupan decenas o cientos de píxeles. Esto significa que solo se necesitan almacenar pocos parámetros, lo cual reducirá significativamente el tiempo de entrenamiento. \n",
    "\n",
    "- *Parámetros compartidos*: se refiere al uso del mismo parámetro para más de una función en el mismo modelo. En una red neuronal tradicional, cada elemento de la matriz de pesos se usa exactamente una vez al calcular la salida de una capa, se multiplica por un elemento de la entrada y luego nunca se vuelve a visitar. Como sinónimo de compartir parámetros, se puede decir que una red tiene pesos vinculados, porque el valor del peso aplicado a una entrada está vinculado al valor de un peso aplicado en otra parte. En una red neuronal convolucional, cada miembro del *kernel* se usa en cada posición de los datos de entrada. El uso compartido de parámetros utilizado por la operación de convolución significa que, en lugar de aprender un conjunto de parámetros separado para cada ubicación, aprendemos solo un conjunto. \n",
    "\n",
    "- *Representación equivariante*: En el caso de la convolución, la forma particular de compartir parámetros hace que la capa tenga una propiedad llamada equivariancia a la traslación. Decir que una función es equivariante significa que si la entrada cambia, la salida cambia de la misma manera. Al procesar datos de series de tiempo, esto significa que la convolución produce una especie de línea de tiempo que muestra cuándo aparecen diferentes características en la entrada. Si movemos un evento más tarde en el tiempo en la entrada, aparecerá exactamente la misma representación en la salida, justo más tarde en el tiempo. De manera similar con las imágenes, la convolución crea un mapa 2-D de dónde aparecen ciertas características en la entrada. Si movemos el objeto en la entrada, su representación se moverá la misma cantidad en la salida. Al procesar imágenes, es útil detectar bordes en la primera capa de una red convolucional, y un borde se ve igual independientemente de dónde aparezca en la imagen. Tenga en cuenta que la convolución no es equivalente a algunas otras transformaciones, como los cambios en la escala o la rotación de una imagen. Se necesitan otros mecanismos para manejar este tipo de transformaciones. \n",
    "\n",
    "Una capa típica de una red convolucional consta de tres etapas. En la primera etapa, la capa realiza varias convoluciones en paralelo para producir un conjunto de activaciones. En la segunda etapa, cada activación se ejecuta a través de una función de activación no lineal, como la función de activación lineal rectificada. Esta etapa a veces se denomina *etapa de detección*. En la tercera etapa, usamos una *función de agrupación* (pooling function) para modificar aún más la salida de la capa. Una función de agrupación reemplaza la salida de la red en una ubicación determinada con una estadística resumida de las salidas cercanas. Por ejemplo, la operación de *agrupación máxima* (max pooling) informa la salida máxima dentro de una vecindad rectangular. Otras funciones de agrupación populares incluyen el promedio de un vecindario rectangular, la norma L2 de un vecindario rectangular o un promedio ponderado basado en la distancia desde el píxel central.\n",
    "\n",
    "En todos los casos, la agrupación ayuda a que la representación se vuelva *invariante* a las pequeñas tralaciones de la entrada. Esto significa que si traladamos la entrada en una pequeña cantidad, los valores de la mayoría de las salidas agrupadas no cambian. *La invariancia de la traslación local puede ser una propiedad muy útil si nos preocupamos más por si alguna característica está presente, que exactamente dónde está*. "
   ]
  },
  {
   "cell_type": "markdown",
   "metadata": {},
   "source": [
    "<img src=\"ima_tuto/maxpool_animation.gif\" width=\"600\" height=\"400\" align=\"center\"/>"
   ]
  },
  {
   "cell_type": "markdown",
   "metadata": {},
   "source": [
    "<img src=\"ima_tuto/6cnn.png\" width=\"600\" height=\"400\" align=\"center\"/>"
   ]
  },
  {
   "cell_type": "markdown",
   "metadata": {},
   "source": [
    "Veamos como implementar una red neuronal convolucional simple."
   ]
  },
  {
   "cell_type": "code",
   "execution_count": 21,
   "metadata": {},
   "outputs": [],
   "source": [
    "# Convertir un vector de clase (enteros) en una matriz de clase binaria. \n",
    "y_train_oh = tf.keras.utils.to_categorical(train_y)\n",
    "y_test_oh = tf.keras.utils.to_categorical(test_y)\n",
    "# Hacer a los datos de entramiento variables de tipo float32\n",
    "x_train = train_X.astype(np.float32)\n",
    "x_test = test_X.astype(np.float32)"
   ]
  },
  {
   "cell_type": "markdown",
   "metadata": {},
   "source": [
    "Entrenaremos un modelo de clasificador CNN determinista estándar antes de implementar las redes neuronales bayesianas. Se debe crear el modelo determinista utilizando la API (del inglés API: Application Programming Interface) secuencial de acuerdo con las siguientes especificaciones (siéntase libre de modificar la secuancia):\n",
    "\n",
    "- Se tomará una capa Conv2D con 8 filtros, tamaño de kernel de 5x5, activación de ReLU y relleno 'VÁLIDO' (significa que no habra rellenado). Por el momento no se agregarán 'strides'.\n",
    "  - Esta capa debe fijar el input_shape de acuerdo con el argumento de la función.\n",
    "- Como segunda capa se tomará una capa MaxPooling2D con un tamaño de ventana de 6x6.\n",
    "- La tercera capa debe ser una capa de Aplanamiento.\n",
    "- La capa final debe ser una capa densa con 10 neuronas y activación softmax.\n",
    "\n",
    "En total, la red tendrá 4 capas.\n",
    "\n",
    "Luego, el modelo debe compilarse con la función de pérdida, el optimizador y la lista de métricas proporcionadas en los argumentos de la función. "
   ]
  },
  {
   "cell_type": "code",
   "execution_count": 22,
   "metadata": {},
   "outputs": [],
   "source": [
    "#### GRADED CELL ####\n",
    "\n",
    "# Complete the following function. \n",
    "# Make sure to not change the function name or arguments.\n",
    "\n",
    "def get_deterministic_model(input_shape, loss, optimizer, metrics):\n",
    "    \"\"\"\n",
    "    This function should build and compile a CNN model according to the above specification. \n",
    "    The function takes input_shape, loss, optimizer and metrics as arguments, which should be\n",
    "    used to define and compile the model.\n",
    "    Your function should return the compiled model.\n",
    "    \"\"\"\n",
    "    model = Sequential([\n",
    "        Conv2D(8, 5, activation='relu', padding='valid', input_shape=input_shape),\n",
    "        MaxPooling2D(6),\n",
    "        Flatten(),\n",
    "        Dense(10, activation='softmax')\n",
    "    ])\n",
    "    model.compile(optimizer=optimizer, loss=loss, metrics=metrics)\n",
    "    return model"
   ]
  },
  {
   "cell_type": "code",
   "execution_count": 23,
   "metadata": {},
   "outputs": [],
   "source": [
    "# Ejecute la función de arriba para obtener el modelo de referencia. \n",
    "\n",
    "tf.random.set_seed(0)\n",
    "deterministic_model = get_deterministic_model(\n",
    "    input_shape=(28, 28, 1), \n",
    "    loss=SparseCategoricalCrossentropy(), \n",
    "    optimizer=RMSprop(), \n",
    "    metrics=['accuracy']\n",
    ")"
   ]
  },
  {
   "cell_type": "code",
   "execution_count": 24,
   "metadata": {},
   "outputs": [
    {
     "name": "stdout",
     "output_type": "stream",
     "text": [
      "Model: \"sequential_1\"\n",
      "_________________________________________________________________\n",
      "Layer (type)                 Output Shape              Param #   \n",
      "=================================================================\n",
      "conv2d (Conv2D)              (None, 24, 24, 8)         208       \n",
      "_________________________________________________________________\n",
      "max_pooling2d (MaxPooling2D) (None, 4, 4, 8)           0         \n",
      "_________________________________________________________________\n",
      "flatten_1 (Flatten)          (None, 128)               0         \n",
      "_________________________________________________________________\n",
      "dense_2 (Dense)              (None, 10)                1290      \n",
      "=================================================================\n",
      "Total params: 1,498\n",
      "Trainable params: 1,498\n",
      "Non-trainable params: 0\n",
      "_________________________________________________________________\n"
     ]
    }
   ],
   "source": [
    "# Resumen del modelo.\n",
    "\n",
    "deterministic_model.summary()"
   ]
  },
  {
   "cell_type": "code",
   "execution_count": 25,
   "metadata": {},
   "outputs": [
    {
     "data": {
      "text/plain": [
       "(60000, 28, 28)"
      ]
     },
     "execution_count": 25,
     "metadata": {},
     "output_type": "execute_result"
    }
   ],
   "source": [
    "x_train.shape"
   ]
  },
  {
   "cell_type": "code",
   "execution_count": 26,
   "metadata": {},
   "outputs": [],
   "source": [
    "# Se debe agregar una nueva dimención que especifique el número de canales, para este caso es 1, de lo contrario \n",
    "# habrá un error.\n",
    "x_train = x_train.reshape(60000,28,28,1)"
   ]
  },
  {
   "cell_type": "code",
   "execution_count": 27,
   "metadata": {},
   "outputs": [
    {
     "name": "stdout",
     "output_type": "stream",
     "text": [
      "Epoch 1/5\n",
      "1875/1875 [==============================] - 13s 6ms/step - loss: 0.8864 - accuracy: 0.7519\n",
      "Epoch 2/5\n",
      "1875/1875 [==============================] - 12s 6ms/step - loss: 0.1497 - accuracy: 0.9550\n",
      "Epoch 3/5\n",
      "1875/1875 [==============================] - 13s 7ms/step - loss: 0.1187 - accuracy: 0.9635\n",
      "Epoch 4/5\n",
      "1875/1875 [==============================] - 13s 7ms/step - loss: 0.1052 - accuracy: 0.9680\n",
      "Epoch 5/5\n",
      "1875/1875 [==============================] - 13s 7ms/step - loss: 0.0913 - accuracy: 0.9719\n"
     ]
    },
    {
     "data": {
      "text/plain": [
       "<tensorflow.python.keras.callbacks.History at 0x7fe688175588>"
      ]
     },
     "execution_count": 27,
     "metadata": {},
     "output_type": "execute_result"
    }
   ],
   "source": [
    "# Entrenar el modelo.\n",
    "\n",
    "deterministic_model.fit(x_train, train_y, epochs=5)"
   ]
  },
  {
   "cell_type": "code",
   "execution_count": 28,
   "metadata": {},
   "outputs": [],
   "source": [
    "# Se debe agregar una nueva dimención que especifique el número de canales, para este caso es 1, de lo contrario \n",
    "# habrá un error.\n",
    "x_test = x_test.reshape(10000,28,28,1)"
   ]
  },
  {
   "cell_type": "code",
   "execution_count": 29,
   "metadata": {},
   "outputs": [
    {
     "name": "stdout",
     "output_type": "stream",
     "text": [
      "Accuracy on MNIST test set:  0.9740999937057495\n"
     ]
    }
   ],
   "source": [
    "# Evaluar el modelo.\n",
    "\n",
    "print('Accuracy on MNIST test set: ',\n",
    "      str(deterministic_model.evaluate(x_test, test_y, verbose=False)[1]))"
   ]
  },
  {
   "cell_type": "code",
   "execution_count": 30,
   "metadata": {},
   "outputs": [],
   "source": [
    "y_predC = np.argmax(model.predict(x_test),axis=1)"
   ]
  },
  {
   "cell_type": "code",
   "execution_count": 31,
   "metadata": {},
   "outputs": [
    {
     "name": "stdout",
     "output_type": "stream",
     "text": [
      "Accuracy = 97.45%\n"
     ]
    }
   ],
   "source": [
    "accC = (y_predC == test_y).sum()/len(test_y)\n",
    "print('Accuracy = {:2.2%}'.format(accC))"
   ]
  },
  {
   "cell_type": "code",
   "execution_count": 32,
   "metadata": {},
   "outputs": [],
   "source": [
    "x_test = x_test.reshape(10000,28,28)"
   ]
  },
  {
   "cell_type": "code",
   "execution_count": 33,
   "metadata": {},
   "outputs": [
    {
     "data": {
      "image/png": "[encoded data removed]",
      "text/plain": [
       "<Figure size 1008x504 with 9 Axes>"
      ]
     },
     "metadata": {},
     "output_type": "display_data"
    }
   ],
   "source": [
    "nshow = 9\n",
    "toshow = np.random.choice(np.arange(x_test.shape[0]), size=nshow, replace=False)\n",
    "plt.figure(figsize=(14,7))\n",
    "for i in range(nshow):  \n",
    "    plt.subplot(330 + 1 + i)\n",
    "    plt.imshow(x_test[toshow[i]], cmap=plt.get_cmap('gray'))\n",
    "    plt.title('Truth {}; prediction {}'.format(test_y[toshow[i]],y_predC[toshow[i]]))\n",
    "plt.tight_layout() "
   ]
  },
  {
   "cell_type": "markdown",
   "metadata": {},
   "source": [
    "<img src=\"ima_tuto/7cnn.gif\" width=\"600\" height=\"400\" align=\"center\"/>"
   ]
  },
  {
   "cell_type": "markdown",
   "metadata": {},
   "source": [
    "# Bayesian Convolutional Neural Networks"
   ]
  },
  {
   "cell_type": "code",
   "execution_count": null,
   "metadata": {},
   "outputs": [],
   "source": []
  }
 ],
 "metadata": {
  "kernelspec": {
   "display_name": "Python 3",
   "language": "python",
   "name": "python3"
  },
  "language_info": {
   "codemirror_mode": {
    "name": "ipython",
    "version": 3
   },
   "file_extension": ".py",
   "mimetype": "text/x-python",
   "name": "python",
   "nbconvert_exporter": "python",
   "pygments_lexer": "ipython3",
   "version": "3.6.6"
  }
 },
 "nbformat": 4,
 "nbformat_minor": 2
}
